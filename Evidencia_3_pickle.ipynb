{
  "nbformat": 4,
  "nbformat_minor": 0,
  "metadata": {
    "colab": {
      "provenance": []
    },
    "kernelspec": {
      "name": "python3",
      "display_name": "Python 3"
    },
    "language_info": {
      "name": "python"
    }
  },
  "cells": [
    {
      "cell_type": "code",
      "execution_count": 1,
      "metadata": {
        "colab": {
          "base_uri": "https://localhost:8080/"
        },
        "id": "hZ-Uf01c96UW",
        "outputId": "ad11d16f-4b63-4ee0-9be7-48a353cc1a2c"
      },
      "outputs": [
        {
          "output_type": "stream",
          "name": "stdout",
          "text": [
            "Objeto serializado y guardado en 'persona.pickle'\n",
            "Objeto original: Persona: Ejemplo, Edad: 30\n",
            "Objeto recuperado: Persona: Ejemplo, Edad: 30\n"
          ]
        }
      ],
      "source": [
        "import pickle\n",
        "\n",
        "class Persona:\n",
        "    def __init__(self, nombre, edad):\n",
        "        self.nombre = nombre\n",
        "        self.edad = edad\n",
        "\n",
        "    def __str__(self):\n",
        "        return f\"Persona: {self.nombre}, Edad: {self.edad}\"\n",
        "\n",
        "# Función para serializar un objeto y guardarlo en un archivo pickle\n",
        "def serializar_objeto(objeto, nombre_archivo):\n",
        "    with open(nombre_archivo, 'wb') as archivo:\n",
        "        pickle.dump(objeto, archivo)\n",
        "    print(f\"Objeto serializado y guardado en '{nombre_archivo}'\")\n",
        "\n",
        "# Función para deserializar un archivo pickle y obtener el objeto original\n",
        "def deserializar_objeto(nombre_archivo):\n",
        "    with open(nombre_archivo, 'rb') as archivo:\n",
        "        objeto_recuperado = pickle.load(archivo)\n",
        "    return objeto_recuperado\n",
        "\n",
        "# Crear un objeto de ejemplo\n",
        "persona_original = Persona(\"Ejemplo\", 30)\n",
        "\n",
        "# Serializar el objeto y guardarlo en un archivo pickle\n",
        "nombre_archivo = 'persona.pickle'\n",
        "serializar_objeto(persona_original, nombre_archivo)\n",
        "\n",
        "# Deserializar el archivo y obtener el objeto original\n",
        "persona_recuperada = deserializar_objeto(nombre_archivo)\n",
        "\n",
        "# Mostrar el objeto original y el recuperado para verificar que son iguales\n",
        "print(\"Objeto original:\", persona_original)\n",
        "print(\"Objeto recuperado:\", persona_recuperada)\n"
      ]
    }
  ]
}